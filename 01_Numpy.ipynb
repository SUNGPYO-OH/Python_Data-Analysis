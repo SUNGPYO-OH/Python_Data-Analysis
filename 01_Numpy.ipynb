{
  "nbformat": 4,
  "nbformat_minor": 0,
  "metadata": {
    "colab": {
      "provenance": [],
      "collapsed_sections": [
        "--0ATvvAwDWR"
      ],
      "include_colab_link": true
    },
    "kernelspec": {
      "name": "python3",
      "display_name": "Python 3"
    },
    "language_info": {
      "name": "python"
    }
  },
  "cells": [
    {
      "cell_type": "markdown",
      "metadata": {
        "id": "view-in-github",
        "colab_type": "text"
      },
      "source": [
        "<a href=\"https://colab.research.google.com/github/SUNGPYO-OH/Python_Data-Analysis/blob/main/01_Numpy.ipynb\" target=\"_parent\"><img src=\"https://colab.research.google.com/assets/colab-badge.svg\" alt=\"Open In Colab\"/></a>"
      ]
    },
    {
      "cell_type": "markdown",
      "metadata": {
        "id": "--0ATvvAwDWR"
      },
      "source": [
        "# 데이터분석을 위한 기본 패키지 정리 - Numpy편"
      ]
    },
    {
      "cell_type": "markdown",
      "source": [
        "# Numpy 소개"
      ],
      "metadata": {
        "id": "EOE4ul-T6rVA"
      }
    },
    {
      "cell_type": "markdown",
      "source": [
        "[배경]  \n",
        "데이터의 대부분은 숫자 배열로 볼수 있다. 파이썬의 리스트로도 계산할 수 있지만 Numpy는 더 빠른 연산을 지원하며 메모리를 효율적으로 사용하기 때문에 이를 활용하게 되었다.\n",
        "\n",
        "---\n",
        "\n",
        "\n",
        "[정의]  \n",
        "Numeric + Python의 약자로 **대규모 다차원 배열**을 다룰 수 있게 도와주는 라이브러리.  \n",
        "- 배열이나 행렬 계산에 필요한 함수 제공\n",
        "- 수열 데이터를 다룰 때 용이\n",
        "- 다차원 배열(Array)을 다룰 때 주로 사용함 (인공신경망, 비정형 데이터 처리, 자연어 처리 등)\n",
        "- 공식문서 : https://numpy.org/\n"
      ],
      "metadata": {
        "id": "boHOpkKBGJX3"
      }
    },
    {
      "cell_type": "code",
      "source": [
        "# Numpy 모듈 불러오기  \n",
        "import numpy as np  # 함수의 별명을 지어주는 것 'as 별명'"
      ],
      "metadata": {
        "id": "LejNE8g_7MJ-"
      },
      "execution_count": 2,
      "outputs": []
    },
    {
      "cell_type": "markdown",
      "source": [
        "### 1.1 Numpy의 기본사용법"
      ],
      "metadata": {
        "id": "AnnKiC1V8OzJ"
      }
    },
    {
      "cell_type": "code",
      "metadata": {
        "id": "g1vkkBxgwDWZ",
        "colab": {
          "base_uri": "https://localhost:8080/"
        },
        "outputId": "d4ee826e-fa27-4a36-c808-5dbf7a77215f"
      },
      "source": [
        "data = np.array([1, 2, 3, 4, 5, 6]) # 기본 생성\n",
        "data2 = np.array([1,2,3,4], dtype='float') # 배열 원소의 데이터 타입 지정\n",
        "data, data2"
      ],
      "execution_count": 3,
      "outputs": [
        {
          "output_type": "execute_result",
          "data": {
            "text/plain": [
              "(array([1, 2, 3, 4, 5, 6]), array([1., 2., 3., 4.]))"
            ]
          },
          "metadata": {},
          "execution_count": 3
        }
      ]
    },
    {
      "cell_type": "code",
      "metadata": {
        "id": "MtVkE_QFwDWe",
        "colab": {
          "base_uri": "https://localhost:8080/"
        },
        "outputId": "4daaa900-5994-47eb-a472-855097d6eca6"
      },
      "source": [
        "data.shape # 배열의 차원"
      ],
      "execution_count": 5,
      "outputs": [
        {
          "output_type": "execute_result",
          "data": {
            "text/plain": [
              "(4,)"
            ]
          },
          "metadata": {},
          "execution_count": 5
        }
      ]
    },
    {
      "cell_type": "code",
      "metadata": {
        "id": "_eLKG0pcwDWo",
        "colab": {
          "base_uri": "https://localhost:8080/"
        },
        "outputId": "a5776179-5b47-4081-921e-d2ec2e1816d2"
      },
      "source": [
        "print(data.dtype) # 배열 원소의 데이터 타입\n",
        "print(data2.dtype) # 배열 원소의 데이터 타입"
      ],
      "execution_count": 6,
      "outputs": [
        {
          "output_type": "stream",
          "name": "stdout",
          "text": [
            "int64\n",
            "float64\n"
          ]
        }
      ]
    },
    {
      "cell_type": "code",
      "source": [
        "data[2] # 배열 인덱스 2의 원소"
      ],
      "metadata": {
        "colab": {
          "base_uri": "https://localhost:8080/"
        },
        "id": "hFTyaVH-8XC3",
        "outputId": "acc88ca5-9100-4f14-9359-da40f7d08b7c"
      },
      "execution_count": null,
      "outputs": [
        {
          "output_type": "execute_result",
          "data": {
            "text/plain": [
              "3"
            ]
          },
          "metadata": {},
          "execution_count": 5
        }
      ]
    },
    {
      "cell_type": "markdown",
      "metadata": {
        "nbpresent": {
          "id": "18fa478a-80cb-47a5-ae5e-d861a083f7cd"
        },
        "id": "GJvQrPBSKjBi"
      },
      "source": [
        "### 1.2 배열 생성하기"
      ]
    },
    {
      "cell_type": "markdown",
      "metadata": {
        "id": "yG3FJOg_KjBj"
      },
      "source": [
        "#### 시퀀스 데이터로부터 1차원 배열 생성"
      ]
    },
    {
      "cell_type": "code",
      "execution_count": null,
      "metadata": {
        "nbpresent": {
          "id": "5f71eb4e-f55e-4f00-96bc-722d7e241a66"
        },
        "id": "PdCVssuzKjBj",
        "outputId": "6ec9ee77-14d6-4c0f-bf16-0c5020abaee4",
        "colab": {
          "base_uri": "https://localhost:8080/"
        }
      },
      "outputs": [
        {
          "output_type": "execute_result",
          "data": {
            "text/plain": [
              "array([0, 1, 2, 3, 4, 5])"
            ]
          },
          "metadata": {},
          "execution_count": 6
        }
      ],
      "source": [
        "import numpy as np\n",
        "\n",
        "data1 = [0, 1, 2, 3, 4, 5]\n",
        "a1 = np.array(data1)\n",
        "a1"
      ]
    },
    {
      "cell_type": "code",
      "execution_count": null,
      "metadata": {
        "id": "HbymFpMUKjBk"
      },
      "outputs": [],
      "source": [
        "# Q. data1과 a1의 데이터 타입 확인해보기 <힌트: type()>\n"
      ]
    },
    {
      "cell_type": "code",
      "execution_count": null,
      "metadata": {
        "nbpresent": {
          "id": "4f067f0f-f488-409b-bd2b-b56b87a767de"
        },
        "id": "DCpK-tmQKjBl",
        "outputId": "b24eedd7-2350-4e85-9732-41585bf1ee38",
        "colab": {
          "base_uri": "https://localhost:8080/"
        }
      },
      "outputs": [
        {
          "output_type": "execute_result",
          "data": {
            "text/plain": [
              "array([ 0.1,  5. ,  4. , 12. ,  0.5])"
            ]
          },
          "metadata": {},
          "execution_count": 8
        }
      ],
      "source": [
        "data2 = [0.1, 5, 4, 12, 0.5]\n",
        "a2 = np.array(data2)\n",
        "a2"
      ]
    },
    {
      "cell_type": "code",
      "execution_count": null,
      "metadata": {
        "nbpresent": {
          "id": "8c96f42b-7142-4360-b36d-26baaec54605"
        },
        "id": "zawhfQO1KjBm",
        "outputId": "e3808a8b-26a0-45eb-d826-aa741648691c",
        "colab": {
          "base_uri": "https://localhost:8080/"
        }
      },
      "outputs": [
        {
          "output_type": "execute_result",
          "data": {
            "text/plain": [
              "dtype('int64')"
            ]
          },
          "metadata": {},
          "execution_count": 9
        }
      ],
      "source": [
        "a1.dtype"
      ]
    },
    {
      "cell_type": "code",
      "execution_count": null,
      "metadata": {
        "nbpresent": {
          "id": "34879198-e061-4749-9bd7-8e0a7820dcd1"
        },
        "id": "6gBajGp2KjBm",
        "outputId": "f959ff7c-1b11-41f5-850c-5a2533898729",
        "colab": {
          "base_uri": "https://localhost:8080/"
        }
      },
      "outputs": [
        {
          "output_type": "execute_result",
          "data": {
            "text/plain": [
              "dtype('float64')"
            ]
          },
          "metadata": {},
          "execution_count": 10
        }
      ],
      "source": [
        "a2.dtype"
      ]
    },
    {
      "cell_type": "markdown",
      "metadata": {
        "id": "ZPgEPgxiKjBm"
      },
      "source": [
        "#### array( )에 리스트 데이터를 직접 넣어서 배열 객체를 생성"
      ]
    },
    {
      "cell_type": "code",
      "execution_count": null,
      "metadata": {
        "nbpresent": {
          "id": "c8f76150-5cb1-48ee-97dc-a21962811c13"
        },
        "id": "H-cFq4RGKjBn",
        "outputId": "5e93252e-3ef4-4401-e7d8-b5234caa924f",
        "colab": {
          "base_uri": "https://localhost:8080/"
        }
      },
      "outputs": [
        {
          "output_type": "execute_result",
          "data": {
            "text/plain": [
              "array([0.5 , 2.  , 0.01, 8.  ])"
            ]
          },
          "metadata": {},
          "execution_count": 11
        }
      ],
      "source": [
        "np.array([0.5, 2, 0.01, 8])"
      ]
    },
    {
      "cell_type": "code",
      "execution_count": null,
      "metadata": {
        "nbpresent": {
          "id": "27fe706c-9327-4844-9521-3e436c33a60c"
        },
        "id": "Zg4IeZNVKjBn",
        "outputId": "689bddc8-3f29-44c5-c63b-a9a04d37535f",
        "colab": {
          "base_uri": "https://localhost:8080/"
        }
      },
      "outputs": [
        {
          "output_type": "execute_result",
          "data": {
            "text/plain": [
              "array([[1, 2, 3],\n",
              "       [4, 5, 6],\n",
              "       [7, 8, 9]])"
            ]
          },
          "metadata": {},
          "execution_count": 12
        }
      ],
      "source": [
        "np.array([[1,2,3], [4,5,6], [7,8,9]])"
      ]
    },
    {
      "cell_type": "markdown",
      "metadata": {
        "nbpresent": {
          "id": "992c8f6c-4041-4ef1-930b-5ad3f5b4b65d"
        },
        "id": "tiroWfwtKjBn"
      },
      "source": [
        "#### 범위를 지정해 배열 생성\n",
        "\n",
        "**arr_obj = np.arange(start, stop, step)** <br>\n",
        "→ **start부터 시작해서 stop 전까지 step만큼 계속 더해 배열 생성**"
      ]
    },
    {
      "cell_type": "code",
      "execution_count": null,
      "metadata": {
        "nbpresent": {
          "id": "5f2dd4a9-34e1-4b11-a609-5872b5388bae"
        },
        "id": "wy5R7bFkKjBo",
        "outputId": "b913880e-2fd4-4a78-b21f-e4ab24d0c2a8",
        "colab": {
          "base_uri": "https://localhost:8080/"
        }
      },
      "outputs": [
        {
          "output_type": "execute_result",
          "data": {
            "text/plain": [
              "array([1, 2, 3, 4, 5, 6, 7, 8, 9])"
            ]
          },
          "metadata": {},
          "execution_count": 13
        }
      ],
      "source": [
        "np.arange(1, 10) # np.arange(1, 10, 1)"
      ]
    },
    {
      "cell_type": "code",
      "execution_count": null,
      "metadata": {
        "nbpresent": {
          "id": "66eb7421-5131-4042-8663-19a471dc2060"
        },
        "id": "EurFkESVKjBo",
        "outputId": "d185ab25-2fe5-4762-963e-23c06051ae84",
        "colab": {
          "base_uri": "https://localhost:8080/"
        }
      },
      "outputs": [
        {
          "output_type": "execute_result",
          "data": {
            "text/plain": [
              "array([0, 1, 2, 3, 4])"
            ]
          },
          "metadata": {},
          "execution_count": 14
        }
      ],
      "source": [
        "np.arange(5) # np.arange(0, 5, 1)"
      ]
    },
    {
      "cell_type": "markdown",
      "source": [
        "문제. arange()를 사용하여 array([4, 6, 8, 10, 12, 14]) 배열을 만들어보기"
      ],
      "metadata": {
        "id": "2QSNzCgWK2vJ"
      }
    },
    {
      "cell_type": "code",
      "execution_count": 7,
      "metadata": {
        "nbpresent": {
          "id": "c1f42511-fc6f-4e62-9cc5-1a72650b5845"
        },
        "id": "aNbKqv40KjBo",
        "colab": {
          "base_uri": "https://localhost:8080/"
        },
        "outputId": "9a4224fc-6531-4a2e-fe60-e3a046d179fa"
      },
      "outputs": [
        {
          "output_type": "execute_result",
          "data": {
            "text/plain": [
              "array([ 4,  6,  8, 10, 12, 14])"
            ]
          },
          "metadata": {},
          "execution_count": 7
        }
      ],
      "source": [
        "# 아래에 코드를 작성하세요\n",
        "np.arange(4,16,2)"
      ]
    },
    {
      "cell_type": "markdown",
      "source": [
        "#### 배열 차원 변경하기 : reshape"
      ],
      "metadata": {
        "id": "2r5b0VrkYYt_"
      }
    },
    {
      "cell_type": "markdown",
      "source": [
        "이어 붙이기 : concateante  \n",
        "차원 변경하기 : reshape\n",
        "\n"
      ],
      "metadata": {
        "id": "suIginhIBpy7"
      }
    },
    {
      "cell_type": "code",
      "source": [
        "# array를 이어 붙인다.\n",
        "x = np.array([0,1,2])\n",
        "y = np.array([3,4,5])\n",
        "np.concatenate([x,y])"
      ],
      "metadata": {
        "colab": {
          "base_uri": "https://localhost:8080/"
        },
        "id": "ALvlT0JNBDGk",
        "outputId": "d2ac25b5-877f-4f86-f9f0-3da240ceccf9"
      },
      "execution_count": 15,
      "outputs": [
        {
          "output_type": "execute_result",
          "data": {
            "text/plain": [
              "array([0, 1, 2, 3, 4, 5])"
            ]
          },
          "metadata": {},
          "execution_count": 15
        }
      ]
    },
    {
      "cell_type": "code",
      "execution_count": null,
      "metadata": {
        "nbpresent": {
          "id": "63b42c5c-ac60-4432-9197-ed176bf2d2e0"
        },
        "scrolled": true,
        "id": "lLxUdhXcKjBo",
        "outputId": "cee43ec4-6294-49ea-829e-089534ec0129",
        "colab": {
          "base_uri": "https://localhost:8080/"
        }
      },
      "outputs": [
        {
          "output_type": "execute_result",
          "data": {
            "text/plain": [
              "array([[ 0,  1,  2],\n",
              "       [ 3,  4,  5],\n",
              "       [ 6,  7,  8],\n",
              "       [ 9, 10, 11]])"
            ]
          },
          "metadata": {},
          "execution_count": 16
        }
      ],
      "source": [
        "# 1차원 배열을 reshape()을 이용해 2차원 배열로 변경\n",
        "np.arange(12).reshape(4, 3)"
      ]
    },
    {
      "cell_type": "code",
      "execution_count": null,
      "metadata": {
        "id": "uk1LXrU1KjBp",
        "outputId": "86f8472a-9f8b-4899-ee2f-7deef5ae2e37",
        "colab": {
          "base_uri": "https://localhost:8080/"
        }
      },
      "outputs": [
        {
          "output_type": "execute_result",
          "data": {
            "text/plain": [
              "(4, 3)"
            ]
          },
          "metadata": {},
          "execution_count": 17
        }
      ],
      "source": [
        "b1 = np.arange(12).reshape(4, 3)\n",
        "b1.shape"
      ]
    },
    {
      "cell_type": "code",
      "source": [
        "matrix = np.arange(4).reshape(2,2)\n",
        "np.concatenate([matrix,matrix],axis= 0) #y-axis\n",
        "np.concatenate([matrix,matrix],axis= 1) #x-axis"
      ],
      "metadata": {
        "colab": {
          "base_uri": "https://localhost:8080/"
        },
        "id": "gXoqhOunCRN4",
        "outputId": "e0ac5bb6-9e93-4dd8-ce93-7586c767a618"
      },
      "execution_count": 17,
      "outputs": [
        {
          "output_type": "execute_result",
          "data": {
            "text/plain": [
              "array([[0, 1, 0, 1],\n",
              "       [2, 3, 2, 3]])"
            ]
          },
          "metadata": {},
          "execution_count": 17
        }
      ]
    },
    {
      "cell_type": "code",
      "source": [
        "matrix = np.arange(16).reshape(4,4)\n",
        "upper, lower = np.split(matrix,[3],axis=0)\n",
        "left, right = np.split(matrix,[3],axis=1)\n",
        "print(upper) print(lower)\n"
      ],
      "metadata": {
        "colab": {
          "base_uri": "https://localhost:8080/"
        },
        "id": "KkVTcux0M1UA",
        "outputId": "b5d1e8a7-1579-44eb-d115-604590d8056e"
      },
      "execution_count": 20,
      "outputs": [
        {
          "output_type": "stream",
          "name": "stdout",
          "text": [
            "[[ 0  1  2  3]\n",
            " [ 4  5  6  7]\n",
            " [ 8  9 10 11]]\n",
            "[[12 13 14 15]]\n"
          ]
        }
      ]
    },
    {
      "cell_type": "markdown",
      "source": [
        "문제. b1을 다시 1차원 배열로 만들어보세요"
      ],
      "metadata": {
        "id": "6qU7-AxgMduo"
      }
    },
    {
      "cell_type": "code",
      "source": [],
      "metadata": {
        "id": "ZM_qlGBAM339"
      },
      "execution_count": null,
      "outputs": []
    },
    {
      "cell_type": "code",
      "execution_count": null,
      "metadata": {
        "id": "L-i661zxKjBp",
        "outputId": "94f23b0b-b799-4402-ae38-fa3855df0899",
        "colab": {
          "base_uri": "https://localhost:8080/"
        }
      },
      "outputs": [
        {
          "output_type": "execute_result",
          "data": {
            "text/plain": [
              "(5,)"
            ]
          },
          "metadata": {},
          "execution_count": 18
        }
      ],
      "source": [
        "# n개의 요소를 갖는 1차원 배열의 shape은 (n,)로 표시된다.\n",
        "b2 = np.arange(5)\n",
        "b2.shape"
      ]
    },
    {
      "cell_type": "markdown",
      "metadata": {
        "id": "uwbJ7imlKjBp"
      },
      "source": [
        "#### 범위의 시작과 끝을 지정하고 데이터의 개수를 지정해 Numpy 배열 생성 linspace( )"
      ]
    },
    {
      "cell_type": "code",
      "execution_count": null,
      "metadata": {
        "id": "zczAaZ8sKjBq",
        "outputId": "15cf824a-f103-4996-98c4-7a5dfaa51a83",
        "colab": {
          "base_uri": "https://localhost:8080/"
        }
      },
      "outputs": [
        {
          "output_type": "execute_result",
          "data": {
            "text/plain": [
              "array([ 1.,  2.,  3.,  4.,  5.,  6.,  7.,  8.,  9., 10.])"
            ]
          },
          "metadata": {},
          "execution_count": 19
        }
      ],
      "source": [
        "np.linspace(1, 10, 10)"
      ]
    },
    {
      "cell_type": "code",
      "execution_count": null,
      "metadata": {
        "id": "jLD3jV_vKjBq",
        "outputId": "bf782514-3636-4639-9dcf-5ee191661f65",
        "colab": {
          "base_uri": "https://localhost:8080/"
        }
      },
      "outputs": [
        {
          "output_type": "execute_result",
          "data": {
            "text/plain": [
              "array([0.        , 0.16534698, 0.33069396, 0.49604095, 0.66138793,\n",
              "       0.82673491, 0.99208189, 1.15742887, 1.32277585, 1.48812284,\n",
              "       1.65346982, 1.8188168 , 1.98416378, 2.14951076, 2.31485774,\n",
              "       2.48020473, 2.64555171, 2.81089869, 2.97624567, 3.14159265])"
            ]
          },
          "metadata": {},
          "execution_count": 20
        }
      ],
      "source": [
        "np.linspace(0, np.pi, 20 )"
      ]
    },
    {
      "cell_type": "markdown",
      "metadata": {
        "id": "FiNjsxYnKjBq"
      },
      "source": [
        "#### 특별한 형태의 배열 생성\n",
        "**<결과를 보고 어떤 메소드인지 추측해보자!>**"
      ]
    },
    {
      "cell_type": "code",
      "execution_count": 19,
      "metadata": {
        "nbpresent": {
          "id": "ec1bca5f-3476-4abb-928f-6c071fac203a"
        },
        "id": "mIlP6FLuKjBq",
        "outputId": "27d037be-7628-4c0e-8cc7-ec310b7fae08",
        "colab": {
          "base_uri": "https://localhost:8080/"
        }
      },
      "outputs": [
        {
          "output_type": "stream",
          "name": "stdout",
          "text": [
            "[0. 0. 0. 0. 0. 0. 0. 0. 0. 0.]\n",
            "[0 0 0 0 0 0 0 0 0 0]\n"
          ]
        }
      ],
      "source": [
        "print(np.zeros(10))\n",
        "print(np.zeros(10, dtype = int))"
      ]
    },
    {
      "cell_type": "code",
      "execution_count": null,
      "metadata": {
        "nbpresent": {
          "id": "daee3ad5-0f22-44b2-b473-8980d1a58e53"
        },
        "id": "SpdG-WZCKjBq",
        "outputId": "ca2f28b9-0eeb-433c-fa57-21d30d82d532",
        "colab": {
          "base_uri": "https://localhost:8080/"
        }
      },
      "outputs": [
        {
          "output_type": "execute_result",
          "data": {
            "text/plain": [
              "array([[0., 0., 0., 0.],\n",
              "       [0., 0., 0., 0.],\n",
              "       [0., 0., 0., 0.]])"
            ]
          },
          "metadata": {},
          "execution_count": 22
        }
      ],
      "source": [
        "np.zeros((3,4))"
      ]
    },
    {
      "cell_type": "code",
      "execution_count": null,
      "metadata": {
        "nbpresent": {
          "id": "e906fa8c-b178-45b9-9591-31f3af9ac3ae"
        },
        "id": "kYohSCrwKjBq",
        "outputId": "19cd1112-8515-47d4-9e89-5b7060a757d7",
        "colab": {
          "base_uri": "https://localhost:8080/"
        }
      },
      "outputs": [
        {
          "output_type": "execute_result",
          "data": {
            "text/plain": [
              "array([1., 1., 1., 1., 1.])"
            ]
          },
          "metadata": {},
          "execution_count": 23
        }
      ],
      "source": [
        "np.ones(5)"
      ]
    },
    {
      "cell_type": "code",
      "execution_count": null,
      "metadata": {
        "nbpresent": {
          "id": "4ca86a90-74ed-42a2-a46d-a42d4a28ddb5"
        },
        "id": "zqVS2hh5KjBr",
        "outputId": "55cdd827-5633-459e-fe0c-02a9cd9d0923",
        "colab": {
          "base_uri": "https://localhost:8080/"
        }
      },
      "outputs": [
        {
          "output_type": "execute_result",
          "data": {
            "text/plain": [
              "array([[1., 1., 1., 1., 1.],\n",
              "       [1., 1., 1., 1., 1.],\n",
              "       [1., 1., 1., 1., 1.]])"
            ]
          },
          "metadata": {},
          "execution_count": 24
        }
      ],
      "source": [
        "np.ones((3,5))"
      ]
    },
    {
      "cell_type": "code",
      "execution_count": null,
      "metadata": {
        "nbpresent": {
          "id": "963a3cc5-3883-435d-a090-afad780451ea"
        },
        "id": "OvTWfiksKjBr",
        "outputId": "09853373-7e23-4b6b-b5c0-c616c448ac0c",
        "colab": {
          "base_uri": "https://localhost:8080/"
        }
      },
      "outputs": [
        {
          "output_type": "execute_result",
          "data": {
            "text/plain": [
              "array([[1., 0., 0., 0., 0.],\n",
              "       [0., 1., 0., 0., 0.],\n",
              "       [0., 0., 1., 0., 0.],\n",
              "       [0., 0., 0., 1., 0.],\n",
              "       [0., 0., 0., 0., 1.]])"
            ]
          },
          "metadata": {},
          "execution_count": 25
        }
      ],
      "source": [
        "np.eye(5)"
      ]
    },
    {
      "cell_type": "code",
      "source": [
        "print(np.random.random((2,2))) #random(n,n shape)\n",
        "print(np.random.normal(0,1,(2,2))) # 표준정규분포 데이터 추출 (random평균, 표준편차, 모양)\n",
        "print(np.random.randint(0,10,(2,2))) # int형 데이터 추출 (시작,끝,모양)"
      ],
      "metadata": {
        "id": "y8XPXHCnMCh_"
      },
      "execution_count": null,
      "outputs": []
    },
    {
      "cell_type": "markdown",
      "source": [
        "배열의 기초"
      ],
      "metadata": {
        "id": "G_Fb-VflMx7w"
      }
    },
    {
      "cell_type": "code",
      "source": [
        "x2 = np.random.randint(10,size=(3,4))\n",
        "print(x2)\n",
        "x2 = np.random.randint(0,10,(3,4))\n",
        "print(x2)"
      ],
      "metadata": {
        "id": "gfRUAKYaM2Bb"
      },
      "execution_count": null,
      "outputs": []
    },
    {
      "cell_type": "code",
      "source": [
        "print(x2.ndim) # 2차원\n",
        "print(x2.shape) # 3*4 모양\n",
        "print(x2.size) # 크기 12\n",
        "print(x2.dtype) # 차원"
      ],
      "metadata": {
        "colab": {
          "base_uri": "https://localhost:8080/"
        },
        "id": "u83j_lUGd4sR",
        "outputId": "a01710ad-f2f1-407e-8903-dc202825a14e"
      },
      "execution_count": 30,
      "outputs": [
        {
          "output_type": "stream",
          "name": "stdout",
          "text": [
            "2\n",
            "(3, 4)\n",
            "12\n",
            "int64\n"
          ]
        }
      ]
    },
    {
      "cell_type": "markdown",
      "source": [
        "#### 리스트 <-> Array 상호변환"
      ],
      "metadata": {
        "id": "lFOHzaFq_9vm"
      }
    },
    {
      "cell_type": "markdown",
      "metadata": {
        "id": "hqGi-UyhFFBM"
      },
      "source": [
        "Python의 Numpy 라이브러리는 List와 **상호 변환이 가능**합니다."
      ]
    },
    {
      "cell_type": "code",
      "source": [
        "list1 = [1, 2, 3, 4, 5, 6]\n",
        "list1.mean()"
      ],
      "metadata": {
        "colab": {
          "base_uri": "https://localhost:8080/",
          "height": 184
        },
        "id": "iBphGTXY9FEv",
        "outputId": "1544a72f-b187-421f-bc64-6849e273d583"
      },
      "execution_count": null,
      "outputs": [
        {
          "output_type": "error",
          "ename": "AttributeError",
          "evalue": "ignored",
          "traceback": [
            "\u001b[0;31m---------------------------------------------------------------------------\u001b[0m",
            "\u001b[0;31mAttributeError\u001b[0m                            Traceback (most recent call last)",
            "\u001b[0;32m<ipython-input-26-df6c4e886261>\u001b[0m in \u001b[0;36m<module>\u001b[0;34m\u001b[0m\n\u001b[1;32m      1\u001b[0m \u001b[0mlist1\u001b[0m \u001b[0;34m=\u001b[0m \u001b[0;34m[\u001b[0m\u001b[0;36m1\u001b[0m\u001b[0;34m,\u001b[0m \u001b[0;36m2\u001b[0m\u001b[0;34m,\u001b[0m \u001b[0;36m3\u001b[0m\u001b[0;34m,\u001b[0m \u001b[0;36m4\u001b[0m\u001b[0;34m,\u001b[0m \u001b[0;36m5\u001b[0m\u001b[0;34m,\u001b[0m \u001b[0;36m6\u001b[0m\u001b[0;34m]\u001b[0m\u001b[0;34m\u001b[0m\u001b[0;34m\u001b[0m\u001b[0m\n\u001b[0;32m----> 2\u001b[0;31m \u001b[0mlist1\u001b[0m\u001b[0;34m.\u001b[0m\u001b[0mmean\u001b[0m\u001b[0;34m(\u001b[0m\u001b[0;34m)\u001b[0m\u001b[0;34m\u001b[0m\u001b[0;34m\u001b[0m\u001b[0m\n\u001b[0m",
            "\u001b[0;31mAttributeError\u001b[0m: 'list' object has no attribute 'mean'"
          ]
        }
      ]
    },
    {
      "cell_type": "code",
      "execution_count": null,
      "metadata": {
        "id": "p1ZVKmx7PSy0",
        "colab": {
          "base_uri": "https://localhost:8080/"
        },
        "outputId": "9f995728-890b-4c66-fc42-5492c4d7175f"
      },
      "outputs": [
        {
          "output_type": "execute_result",
          "data": {
            "text/plain": [
              "3.5"
            ]
          },
          "metadata": {},
          "execution_count": 27
        }
      ],
      "source": [
        "# 리스트 -> array \n",
        "arr = np.array(list1)\n",
        "arr.mean()"
      ]
    },
    {
      "cell_type": "code",
      "execution_count": null,
      "metadata": {
        "id": "2Ak_-rdJPSy0",
        "colab": {
          "base_uri": "https://localhost:8080/"
        },
        "outputId": "90470058-4791-4862-8ac6-417700f08349"
      },
      "outputs": [
        {
          "output_type": "stream",
          "name": "stdout",
          "text": [
            "<class 'list'>\n",
            "<class 'numpy.ndarray'>\n"
          ]
        }
      ],
      "source": [
        "print(type(list1))\n",
        "print(type(arr))"
      ]
    },
    {
      "cell_type": "code",
      "source": [
        "# array -> list : tolist()\n",
        "list_to_arr = arr.tolist()\n",
        "\n",
        "print(list_to_arr)\n",
        "print(type(list_to_arr))"
      ],
      "metadata": {
        "colab": {
          "base_uri": "https://localhost:8080/"
        },
        "id": "lDh1LwlC-VXv",
        "outputId": "56fa6c36-e022-4aa0-d4e7-4a88b9159a14"
      },
      "execution_count": null,
      "outputs": [
        {
          "output_type": "stream",
          "name": "stdout",
          "text": [
            "[1, 2, 3, 4, 5, 6]\n",
            "<class 'list'>\n"
          ]
        }
      ]
    },
    {
      "cell_type": "code",
      "source": [
        "data = np.array([[1, 2, 3], [4, 5, 6]])\n",
        "\n",
        "# tolist로 변환하면 \n",
        "arr1 = data.tolist()\n",
        "print(arr1)\n",
        "print(type(arr1))\n",
        "print(type(arr1[0]))\n",
        "\n",
        "print('\\n-------------------------\\n')\n",
        "# list()로 변환하면 \n",
        "arr2 = list(data)\n",
        "print(arr2)\n",
        "print(type(arr2))\n",
        "print(type(arr2[0]))"
      ],
      "metadata": {
        "id": "zTk8XSlO-639",
        "colab": {
          "base_uri": "https://localhost:8080/"
        },
        "outputId": "6782b32c-4c86-4389-ca4c-1c6db2d7fb0c"
      },
      "execution_count": null,
      "outputs": [
        {
          "output_type": "stream",
          "name": "stdout",
          "text": [
            "[[1, 2, 3], [4, 5, 6]]\n",
            "<class 'list'>\n",
            "<class 'list'>\n",
            "\n",
            "-------------------------\n",
            "\n",
            "[array([1, 2, 3]), array([4, 5, 6])]\n",
            "<class 'list'>\n",
            "<class 'numpy.ndarray'>\n"
          ]
        }
      ]
    },
    {
      "cell_type": "markdown",
      "source": [
        "list() 메소드도 사용이 가능하긴 하지만, 다차원 배열에서는 내부 배열이 array 형태로 잔류한다는 점이 다릅니다."
      ],
      "metadata": {
        "id": "pqulhH1M_5B1"
      }
    },
    {
      "cell_type": "markdown",
      "metadata": {
        "id": "XwC8ckDdKjBs"
      },
      "source": [
        "### 1.3 난수 배열의 생성"
      ]
    },
    {
      "cell_type": "code",
      "execution_count": null,
      "metadata": {
        "id": "LtnDGjctKjBs",
        "outputId": "00b8d98e-ef31-47f9-a57c-300f06029508",
        "colab": {
          "base_uri": "https://localhost:8080/"
        }
      },
      "outputs": [
        {
          "output_type": "execute_result",
          "data": {
            "text/plain": [
              "array([[0.39771856, 0.00127492, 0.88999987],\n",
              "       [0.64696072, 0.08460761, 0.92774039]])"
            ]
          },
          "metadata": {},
          "execution_count": 31
        }
      ],
      "source": [
        "# rand(): [0. 1) 사이의 실수 난수를 갖는 넘파이 배열 생성\n",
        "\n",
        "np.random.rand(2,3) # 2 x 3의 2차원 배열의 실수 난수 생성"
      ]
    },
    {
      "cell_type": "code",
      "execution_count": null,
      "metadata": {
        "id": "f66r6OdAKjBs",
        "outputId": "b7d0e70c-9744-47eb-e74e-b9b3b4be530c",
        "colab": {
          "base_uri": "https://localhost:8080/"
        }
      },
      "outputs": [
        {
          "output_type": "execute_result",
          "data": {
            "text/plain": [
              "0.16997688576448589"
            ]
          },
          "metadata": {},
          "execution_count": 32
        }
      ],
      "source": [
        "np.random.rand() # 사이즈를 입력하지 않으면 1로 간주"
      ]
    },
    {
      "cell_type": "code",
      "execution_count": null,
      "metadata": {
        "id": "gcqz34wtKjBs",
        "outputId": "fa97b580-fb18-4f0f-c74c-74e176ea56bc",
        "colab": {
          "base_uri": "https://localhost:8080/"
        }
      },
      "outputs": [
        {
          "output_type": "execute_result",
          "data": {
            "text/plain": [
              "array([[[0.88914298, 0.01787654, 0.8825722 , 0.10331747],\n",
              "        [0.90667432, 0.2826348 , 0.03399678, 0.32679568],\n",
              "        [0.90728272, 0.22193711, 0.38648677, 0.26434027]],\n",
              "\n",
              "       [[0.31375261, 0.08567293, 0.10432567, 0.79736503],\n",
              "        [0.66913787, 0.38905623, 0.39716596, 0.39211536],\n",
              "        [0.39098094, 0.96533352, 0.32609649, 0.5282345 ]]])"
            ]
          },
          "metadata": {},
          "execution_count": 33
        }
      ],
      "source": [
        "np.random.rand(2,3,4)"
      ]
    },
    {
      "cell_type": "code",
      "execution_count": null,
      "metadata": {
        "id": "s0Rj87QkKjBs",
        "outputId": "97f93b7e-a58d-414f-bf9e-1fae6edfe4a9",
        "colab": {
          "base_uri": "https://localhost:8080/"
        }
      },
      "outputs": [
        {
          "output_type": "execute_result",
          "data": {
            "text/plain": [
              "array([[7, 8, 5, 6],\n",
              "       [7, 7, 8, 4],\n",
              "       [0, 6, 7, 6]])"
            ]
          },
          "metadata": {},
          "execution_count": 34
        }
      ],
      "source": [
        "# randint(): 지정한 범위에 해당하는 정수로 난수 배열을 생성\n",
        "np.random.randint(10, size=(3, 4))"
      ]
    },
    {
      "cell_type": "markdown",
      "metadata": {
        "nbpresent": {
          "id": "8439f472-17a2-4baa-86bc-ff64e9b3d704"
        },
        "id": "_jD3c9xGKjBr"
      },
      "source": [
        "### 1.4 배열의 데이터 타입 변환"
      ]
    },
    {
      "cell_type": "code",
      "execution_count": null,
      "metadata": {
        "nbpresent": {
          "id": "645ae3c6-8414-435e-a321-26c0ecfe5485"
        },
        "id": "AOzMMrE_KjBr",
        "outputId": "db135005-de53-4d51-ecd6-5c403d45a704",
        "colab": {
          "base_uri": "https://localhost:8080/"
        }
      },
      "outputs": [
        {
          "output_type": "execute_result",
          "data": {
            "text/plain": [
              "array(['1.5', '0.62', '2', '3.14', '3.141592'], dtype='<U8')"
            ]
          },
          "metadata": {},
          "execution_count": 35
        }
      ],
      "source": [
        "# dtype = '<U8'은 데이터의 형식이 유니코드이며 문자의 수는 최대 8개라는 것을 의미\n",
        "np.array(['1.5', '0.62', '2', '3.14', '3.141592'])"
      ]
    },
    {
      "cell_type": "code",
      "execution_count": null,
      "metadata": {
        "nbpresent": {
          "id": "be3ce681-c2f1-4b77-938b-d731ff638994"
        },
        "id": "h2RidPozKjBr",
        "outputId": "99fe6a38-40b7-4860-c739-2f1c5cd90aa5",
        "colab": {
          "base_uri": "https://localhost:8080/"
        }
      },
      "outputs": [
        {
          "output_type": "execute_result",
          "data": {
            "text/plain": [
              "array([1.567, 0.123, 5.123, 9.   , 8.   ])"
            ]
          },
          "metadata": {},
          "execution_count": 36
        }
      ],
      "source": [
        "str_a1 = np.array(['1.567', '0.123', '5.123', '9', '8'])\n",
        "num_a1 = str_a1.astype(float) # Numpy 배열의 형 변환\n",
        "num_a1"
      ]
    },
    {
      "cell_type": "code",
      "execution_count": null,
      "metadata": {
        "id": "J0L8xK3EKjBr",
        "outputId": "63c50c73-4ad9-467d-d94f-a3ef09177869",
        "colab": {
          "base_uri": "https://localhost:8080/"
        }
      },
      "outputs": [
        {
          "output_type": "execute_result",
          "data": {
            "text/plain": [
              "dtype('<U5')"
            ]
          },
          "metadata": {},
          "execution_count": 37
        }
      ],
      "source": [
        "str_a1.dtype"
      ]
    },
    {
      "cell_type": "code",
      "execution_count": null,
      "metadata": {
        "nbpresent": {
          "id": "a62c4cd9-9b6c-4a93-ab3c-2433ceac4255"
        },
        "id": "t8D2GAM0KjBr",
        "outputId": "c299f20b-1927-44a8-b716-925b80eeb91c",
        "colab": {
          "base_uri": "https://localhost:8080/"
        }
      },
      "outputs": [
        {
          "output_type": "execute_result",
          "data": {
            "text/plain": [
              "dtype('float64')"
            ]
          },
          "metadata": {},
          "execution_count": 38
        }
      ],
      "source": [
        "num_a1.dtype"
      ]
    },
    {
      "cell_type": "code",
      "execution_count": null,
      "metadata": {
        "nbpresent": {
          "id": "7540392f-5b0c-4b3d-af05-d16b033e489f"
        },
        "id": "yGC_mSRpKjBr",
        "outputId": "ed183ddb-0521-4fd2-d9aa-16b290ac39a0",
        "colab": {
          "base_uri": "https://localhost:8080/"
        }
      },
      "outputs": [
        {
          "output_type": "execute_result",
          "data": {
            "text/plain": [
              "array([1, 3, 5, 7, 9])"
            ]
          },
          "metadata": {},
          "execution_count": 39
        }
      ],
      "source": [
        "str_a2 = np.array(['1', '3', '5', '7', '9'])\n",
        "num_a2 = str_a2.astype(int)\n",
        "num_a2"
      ]
    },
    {
      "cell_type": "code",
      "execution_count": null,
      "metadata": {
        "id": "gprmfvYJKjBr",
        "outputId": "6f229560-41a7-497b-e776-8514432d4472",
        "colab": {
          "base_uri": "https://localhost:8080/"
        }
      },
      "outputs": [
        {
          "output_type": "execute_result",
          "data": {
            "text/plain": [
              "dtype('<U1')"
            ]
          },
          "metadata": {},
          "execution_count": 40
        }
      ],
      "source": [
        "str_a2.dtype"
      ]
    },
    {
      "cell_type": "code",
      "execution_count": null,
      "metadata": {
        "id": "CLsT0jqIKjBs",
        "outputId": "822c5141-cb91-45a4-e56f-0084a6f86ff5",
        "colab": {
          "base_uri": "https://localhost:8080/"
        }
      },
      "outputs": [
        {
          "output_type": "execute_result",
          "data": {
            "text/plain": [
              "dtype('int64')"
            ]
          },
          "metadata": {},
          "execution_count": 41
        }
      ],
      "source": [
        "num_a2.dtype"
      ]
    },
    {
      "cell_type": "markdown",
      "source": [
        "#### Q. 어떤 결과가 나올지 예측해보기"
      ],
      "metadata": {
        "id": "Y83yVirfNe2Q"
      }
    },
    {
      "cell_type": "code",
      "execution_count": 3,
      "metadata": {
        "collapsed": true,
        "nbpresent": {
          "id": "e7b1eeb3-a8bd-4612-a8b9-41ee0d6b816f"
        },
        "id": "pHRlUKJ2KjBs",
        "colab": {
          "base_uri": "https://localhost:8080/"
        },
        "outputId": "c4b5186d-c6e8-416c-fbe8-a93f07f37a74"
      },
      "outputs": [
        {
          "output_type": "execute_result",
          "data": {
            "text/plain": [
              "array([10, 21,  0,  4,  5])"
            ]
          },
          "metadata": {},
          "execution_count": 3
        }
      ],
      "source": [
        "num_f1 = np.array([10, 21, 0.549, 4.75, 5.98])\n",
        "num_i1 = num_f1.astype(int)\n",
        "num_i1"
      ]
    },
    {
      "cell_type": "code",
      "execution_count": 4,
      "metadata": {
        "scrolled": true,
        "id": "Ve5sMH2UKjBs",
        "outputId": "47cc41d4-4327-4927-efb6-2db17ffc911d",
        "colab": {
          "base_uri": "https://localhost:8080/"
        }
      },
      "outputs": [
        {
          "output_type": "execute_result",
          "data": {
            "text/plain": [
              "dtype('float64')"
            ]
          },
          "metadata": {},
          "execution_count": 4
        }
      ],
      "source": [
        "num_f1.dtype"
      ]
    },
    {
      "cell_type": "code",
      "execution_count": 5,
      "metadata": {
        "id": "d4iFE_EjKjBs",
        "outputId": "fe569429-1839-46ab-de20-33b2f2364e27",
        "collapsed": true,
        "colab": {
          "base_uri": "https://localhost:8080/"
        }
      },
      "outputs": [
        {
          "output_type": "execute_result",
          "data": {
            "text/plain": [
              "dtype('int64')"
            ]
          },
          "metadata": {},
          "execution_count": 5
        }
      ],
      "source": [
        "num_i1.dtype"
      ]
    },
    {
      "cell_type": "markdown",
      "metadata": {
        "nbpresent": {
          "id": "ee59bc8f-cf0f-4aaf-a8ae-b5c2763cc79b"
        },
        "id": "VwfXj-V5KjBt"
      },
      "source": [
        "### 1.5 배열의 연산"
      ]
    },
    {
      "cell_type": "markdown",
      "metadata": {
        "id": "_3cxjlFpKjBt"
      },
      "source": [
        "#### 기본 연산"
      ]
    },
    {
      "cell_type": "code",
      "execution_count": null,
      "metadata": {
        "collapsed": true,
        "id": "WtYjUStrKjBt"
      },
      "outputs": [],
      "source": [
        "# 넘파이 배열의 연산을 살펴보기 전에... 리스트끼리도 연산이 되나요? \n",
        "lst1 = [10, 20, 30, 40]\n",
        "lst2 = [1, 2, 3, 4]\n",
        "lst1 + lst2"
      ]
    },
    {
      "cell_type": "code",
      "execution_count": null,
      "metadata": {
        "nbpresent": {
          "id": "31a5e2f1-017c-4d6d-aae3-1fb54ac75e9c"
        },
        "id": "MYs-AiEqKjBt"
      },
      "outputs": [],
      "source": [
        "arr1 = np.array([10, 20, 30, 40])\n",
        "arr2 = np.array([1, 2, 3, 4])"
      ]
    },
    {
      "cell_type": "markdown",
      "metadata": {
        "id": "rf1lrwMpKjBt"
      },
      "source": [
        "**아래 연산 식에 대해 먼저 결과값을 예측해보고 직접 실행해보기**"
      ]
    },
    {
      "cell_type": "code",
      "execution_count": null,
      "metadata": {
        "collapsed": true,
        "nbpresent": {
          "id": "4f32ef1d-bbac-41a0-928b-75941eb6508c"
        },
        "id": "nz5i-TrhKjBt"
      },
      "outputs": [],
      "source": [
        "arr1 + arr2"
      ]
    },
    {
      "cell_type": "code",
      "execution_count": null,
      "metadata": {
        "collapsed": true,
        "id": "pz__n7uQKjBt"
      },
      "outputs": [],
      "source": [
        "arr1 - arr2"
      ]
    },
    {
      "cell_type": "code",
      "execution_count": null,
      "metadata": {
        "collapsed": true,
        "nbpresent": {
          "id": "bf735d32-362d-455e-b9df-4881cfaaa8ff"
        },
        "id": "tDN6tqk1KjBt"
      },
      "outputs": [],
      "source": [
        "arr2 * 2"
      ]
    },
    {
      "cell_type": "code",
      "execution_count": null,
      "metadata": {
        "collapsed": true,
        "nbpresent": {
          "id": "248b2673-a05f-447b-85ea-d537b8880f80"
        },
        "id": "Ax4pszJZKjBt"
      },
      "outputs": [],
      "source": [
        "arr2 ** 2"
      ]
    },
    {
      "cell_type": "code",
      "execution_count": null,
      "metadata": {
        "collapsed": true,
        "nbpresent": {
          "id": "90778e0d-2726-4c96-bae9-af808aa17696"
        },
        "id": "ZMsSFsHrKjBt"
      },
      "outputs": [],
      "source": [
        "arr1 * arr2"
      ]
    },
    {
      "cell_type": "code",
      "execution_count": null,
      "metadata": {
        "collapsed": true,
        "nbpresent": {
          "id": "497bfe6b-1180-43ad-8d15-911730388b95"
        },
        "id": "HM2H7UPtKjBt"
      },
      "outputs": [],
      "source": [
        "arr1 / arr2"
      ]
    },
    {
      "cell_type": "code",
      "execution_count": null,
      "metadata": {
        "collapsed": true,
        "nbpresent": {
          "id": "a91ef282-77b8-44fa-8f41-61b2733727ba"
        },
        "id": "_PiGKvFoKjBu"
      },
      "outputs": [],
      "source": [
        "arr1 / (arr2 ** 2)"
      ]
    },
    {
      "cell_type": "code",
      "execution_count": null,
      "metadata": {
        "collapsed": true,
        "nbpresent": {
          "id": "b412697d-8109-4e03-8194-757e3f000fa1"
        },
        "id": "9C6JOYVSKjBu"
      },
      "outputs": [],
      "source": [
        "arr1 > 20"
      ]
    },
    {
      "cell_type": "markdown",
      "metadata": {
        "nbpresent": {
          "id": "ed5d25ea-f078-4238-9911-6f56810dc8b6"
        },
        "id": "hCR8QSV5KjBu"
      },
      "source": [
        "### 1.6 통계를 위한 연산"
      ]
    },
    {
      "cell_type": "code",
      "execution_count": null,
      "metadata": {
        "nbpresent": {
          "id": "10bbf32c-3190-4853-b5b7-47d3048a2732"
        },
        "id": "0H5m_ihOKjBu",
        "outputId": "93c33cbc-fa0d-42ff-a6ae-18f5a4e1bc5c",
        "colab": {
          "base_uri": "https://localhost:8080/"
        }
      },
      "outputs": [
        {
          "output_type": "execute_result",
          "data": {
            "text/plain": [
              "array([0, 1, 2, 3, 4])"
            ]
          },
          "metadata": {},
          "execution_count": 55
        }
      ],
      "source": [
        "arr3 = np.arange(5)\n",
        "arr3"
      ]
    },
    {
      "cell_type": "code",
      "execution_count": null,
      "metadata": {
        "nbpresent": {
          "id": "e431758a-85a8-47d9-9bc0-e4d601d4db09"
        },
        "id": "tk3to5-TKjBu",
        "outputId": "72065b46-2096-4124-e3f2-5896feec102e",
        "colab": {
          "base_uri": "https://localhost:8080/"
        }
      },
      "outputs": [
        {
          "output_type": "execute_result",
          "data": {
            "text/plain": [
              "[10, 2.0]"
            ]
          },
          "metadata": {},
          "execution_count": 56
        }
      ],
      "source": [
        "# 배열의 합과 평균\n",
        "[arr3.sum(), arr3.mean()]"
      ]
    },
    {
      "cell_type": "code",
      "execution_count": null,
      "metadata": {
        "nbpresent": {
          "id": "fb6fc3f3-1a8a-403c-84d5-1ea68bc354c1"
        },
        "id": "XaorGg0QKjBu",
        "outputId": "3f6b8202-6f63-45c3-a128-0f02efaad1bf",
        "colab": {
          "base_uri": "https://localhost:8080/"
        }
      },
      "outputs": [
        {
          "output_type": "execute_result",
          "data": {
            "text/plain": [
              "[1.4142135623730951, 2.0]"
            ]
          },
          "metadata": {},
          "execution_count": 57
        }
      ],
      "source": [
        "# 배열의 표준편차와 분산\n",
        "[arr3.std(), arr3.var()]"
      ]
    },
    {
      "cell_type": "code",
      "execution_count": null,
      "metadata": {
        "nbpresent": {
          "id": "f102e256-50cc-43d9-94fc-7cb973bbbf9e"
        },
        "id": "kk5vsqrhKjBu",
        "outputId": "4ce6d810-6b9f-4bc4-d427-bc97f24cbf71",
        "colab": {
          "base_uri": "https://localhost:8080/"
        }
      },
      "outputs": [
        {
          "output_type": "execute_result",
          "data": {
            "text/plain": [
              "[0, 4]"
            ]
          },
          "metadata": {},
          "execution_count": 58
        }
      ],
      "source": [
        "# 배열의 최솟값, 최댓값\n",
        "[arr3.min(), arr3.max()]"
      ]
    },
    {
      "cell_type": "code",
      "execution_count": null,
      "metadata": {
        "id": "IR1x-g7WKjBu",
        "outputId": "af8da83f-252b-47c2-e945-4c7062ea08bd",
        "colab": {
          "base_uri": "https://localhost:8080/"
        }
      },
      "outputs": [
        {
          "output_type": "execute_result",
          "data": {
            "text/plain": [
              "array([1, 2, 3, 4])"
            ]
          },
          "metadata": {},
          "execution_count": 59
        }
      ],
      "source": [
        "arr4 = np.arange(1,5)\n",
        "arr4"
      ]
    },
    {
      "cell_type": "code",
      "execution_count": null,
      "metadata": {
        "nbpresent": {
          "id": "bafc5580-e051-4737-8631-2a8d3bf9c9cb"
        },
        "id": "E9t5E_CVKjBu",
        "outputId": "9f932890-4d43-4c39-c4af-112bf79b1eea",
        "colab": {
          "base_uri": "https://localhost:8080/"
        }
      },
      "outputs": [
        {
          "output_type": "execute_result",
          "data": {
            "text/plain": [
              "array([ 1,  3,  6, 10])"
            ]
          },
          "metadata": {},
          "execution_count": 60
        }
      ],
      "source": [
        "# 배열의 누적 합 구하기\n",
        "arr4.cumsum()"
      ]
    },
    {
      "cell_type": "code",
      "execution_count": null,
      "metadata": {
        "nbpresent": {
          "id": "a5b08f83-1ffd-4a88-941b-a8471101b857"
        },
        "id": "PvbpUqbpKjBu",
        "outputId": "3a10c255-980a-47e7-da96-f83b5f271172",
        "colab": {
          "base_uri": "https://localhost:8080/"
        }
      },
      "outputs": [
        {
          "output_type": "execute_result",
          "data": {
            "text/plain": [
              "array([ 1,  2,  6, 24])"
            ]
          },
          "metadata": {},
          "execution_count": 61
        }
      ],
      "source": [
        "# 배열의 누적 곱 구하기\n",
        "arr4.cumprod()"
      ]
    },
    {
      "cell_type": "markdown",
      "metadata": {
        "nbpresent": {
          "id": "68113591-507a-4c02-9133-3cb8142de227"
        },
        "id": "V_e6kftpKjBu"
      },
      "source": [
        "### 1.7 행렬 연산"
      ]
    },
    {
      "cell_type": "markdown",
      "source": [
        "#### ndarray"
      ],
      "metadata": {
        "id": "tcZlu1bUBA35"
      }
    },
    {
      "cell_type": "code",
      "source": [
        "# 2차원 이중 Matrix\n",
        "data = [\n",
        "    [1,2,3],\n",
        "    [4,5,6],\n",
        "    [7,8,9]\n",
        "]\n",
        "\n",
        "matrix2 = np.array(data)\n",
        "print(type(matrix2))\n",
        "print(matrix2.shape)\n",
        "matrix2"
      ],
      "metadata": {
        "colab": {
          "base_uri": "https://localhost:8080/"
        },
        "id": "vQ7E8AN49sLl",
        "outputId": "0d73d5c7-0900-4c1b-9d42-5c7b5603b3ce"
      },
      "execution_count": null,
      "outputs": [
        {
          "output_type": "stream",
          "name": "stdout",
          "text": [
            "<class 'numpy.ndarray'>\n",
            "(3, 3)\n"
          ]
        },
        {
          "output_type": "execute_result",
          "data": {
            "text/plain": [
              "array([[1, 2, 3],\n",
              "       [4, 5, 6],\n",
              "       [7, 8, 9]])"
            ]
          },
          "metadata": {},
          "execution_count": 62
        }
      ]
    },
    {
      "cell_type": "code",
      "source": [
        "data = np.array([\n",
        "                 [[1, 2], [3, 4], [5, 6]],\n",
        "                 [[0, 3], [10, 7], [20, 9]],\n",
        "                 [[1, 2], [3, 4], [5, 6]],\n",
        "                 [[0, 3], [10, 7], [20, 9]],\n",
        "                 ]\n",
        "                )\n",
        "\n",
        "matrix3 = np.array(data)\n",
        "print(type(matrix3))\n",
        "print(matrix3.shape)\n",
        "matrix3"
      ],
      "metadata": {
        "colab": {
          "base_uri": "https://localhost:8080/"
        },
        "id": "ioDs24TBCRfu",
        "outputId": "17d43373-3fb4-409e-b7ca-eca8f0c459d1"
      },
      "execution_count": null,
      "outputs": [
        {
          "output_type": "stream",
          "name": "stdout",
          "text": [
            "<class 'numpy.ndarray'>\n",
            "(4, 3, 2)\n"
          ]
        },
        {
          "output_type": "execute_result",
          "data": {
            "text/plain": [
              "array([[[ 1,  2],\n",
              "        [ 3,  4],\n",
              "        [ 5,  6]],\n",
              "\n",
              "       [[ 0,  3],\n",
              "        [10,  7],\n",
              "        [20,  9]],\n",
              "\n",
              "       [[ 1,  2],\n",
              "        [ 3,  4],\n",
              "        [ 5,  6]],\n",
              "\n",
              "       [[ 0,  3],\n",
              "        [10,  7],\n",
              "        [20,  9]]])"
            ]
          },
          "metadata": {},
          "execution_count": 63
        }
      ]
    },
    {
      "cell_type": "code",
      "source": [
        "print(matrix3[0].shape)\n",
        "matrix3[0]"
      ],
      "metadata": {
        "colab": {
          "base_uri": "https://localhost:8080/"
        },
        "id": "UbBTDZM1DEnf",
        "outputId": "46a9fff5-d56a-454d-f31e-688c44b997de"
      },
      "execution_count": null,
      "outputs": [
        {
          "output_type": "stream",
          "name": "stdout",
          "text": [
            "(3, 2)\n"
          ]
        },
        {
          "output_type": "execute_result",
          "data": {
            "text/plain": [
              "array([[1, 2],\n",
              "       [3, 4],\n",
              "       [5, 6]])"
            ]
          },
          "metadata": {},
          "execution_count": 64
        }
      ]
    },
    {
      "cell_type": "markdown",
      "source": [
        "#### 행렬연산"
      ],
      "metadata": {
        "id": "PUcdqlF6OPrP"
      }
    },
    {
      "cell_type": "code",
      "source": [
        "import numpy as np\n",
        "\n",
        "array = np.random.randint(1, 10, size=4).reshape(2, 2)\n",
        "array"
      ],
      "metadata": {
        "colab": {
          "base_uri": "https://localhost:8080/"
        },
        "outputId": "0989115f-aae7-4e6d-b5cd-d1bd3ba45d0c",
        "id": "6tLhpjHnO0qM"
      },
      "execution_count": null,
      "outputs": [
        {
          "output_type": "execute_result",
          "data": {
            "text/plain": [
              "array([[9, 2],\n",
              "       [9, 2]])"
            ]
          },
          "metadata": {},
          "execution_count": 65
        }
      ]
    },
    {
      "cell_type": "code",
      "metadata": {
        "colab": {
          "base_uri": "https://localhost:8080/"
        },
        "outputId": "11b7ff58-ba8c-4171-a37f-aa6f8c20a43b",
        "id": "WzOjUlNIO0qM"
      },
      "source": [
        "result_array = array * 10\n",
        "print(result_array)"
      ],
      "execution_count": null,
      "outputs": [
        {
          "output_type": "stream",
          "name": "stdout",
          "text": [
            "[[90 20]\n",
            " [90 20]]\n"
          ]
        }
      ]
    },
    {
      "cell_type": "markdown",
      "source": [
        "사칙연산"
      ],
      "metadata": {
        "id": "yXmODBRaO0qM"
      }
    },
    {
      "cell_type": "code",
      "source": [
        "array1 = np.arange(1, 5).reshape(2, 2)\n",
        "array2 = np.arange(1, 5).reshape(2, 2)\n",
        "\n",
        "print('array1:', array1,sep='\\n')\n",
        "print('array2:', array2, sep='\\n')"
      ],
      "metadata": {
        "colab": {
          "base_uri": "https://localhost:8080/"
        },
        "outputId": "e06c00f2-4693-4758-cdc5-8b8c00fc3770",
        "id": "R_FhjmFPO0qM"
      },
      "execution_count": null,
      "outputs": [
        {
          "output_type": "stream",
          "name": "stdout",
          "text": [
            "array1:\n",
            "[[1 2]\n",
            " [3 4]]\n",
            "array2:\n",
            "[[1 2]\n",
            " [3 4]]\n"
          ]
        }
      ]
    },
    {
      "cell_type": "code",
      "source": [
        "array1 + array2 "
      ],
      "metadata": {
        "id": "OpLNXv4yBQi5"
      },
      "execution_count": null,
      "outputs": []
    },
    {
      "cell_type": "code",
      "source": [
        "array1 - array2"
      ],
      "metadata": {
        "id": "mezqaANjO0qM"
      },
      "execution_count": null,
      "outputs": []
    },
    {
      "cell_type": "markdown",
      "source": [
        "Q.  어떤 결과가 나올까요? "
      ],
      "metadata": {
        "id": "ere5n__fODpz"
      }
    },
    {
      "cell_type": "code",
      "source": [
        "array1 * array2"
      ],
      "metadata": {
        "id": "nrLLMQ6NO0qN",
        "collapsed": true
      },
      "execution_count": null,
      "outputs": []
    },
    {
      "cell_type": "code",
      "source": [
        "array1 / array2"
      ],
      "metadata": {
        "id": "2jFXvlmDO0qN",
        "collapsed": true
      },
      "execution_count": null,
      "outputs": []
    },
    {
      "cell_type": "markdown",
      "source": [
        "행렬곱"
      ],
      "metadata": {
        "id": "PsouAKTbO0qN"
      }
    },
    {
      "cell_type": "code",
      "execution_count": null,
      "metadata": {
        "id": "pviOYJabKjBu",
        "outputId": "a56602e4-b0a9-4a0b-ed86-27894a7f6728",
        "colab": {
          "base_uri": "https://localhost:8080/"
        }
      },
      "outputs": [
        {
          "output_type": "stream",
          "name": "stdout",
          "text": [
            "array A:\n",
            "[[0 1]\n",
            " [2 3]]\n",
            "array B:\n",
            "[[3 2]\n",
            " [0 1]]\n"
          ]
        }
      ],
      "source": [
        "A = np.array([0, 1, 2, 3]).reshape(2,2)\n",
        "B = np.array([3, 2, 0, 1]).reshape(2,2)\n",
        "\n",
        "\n",
        "print('array A:', A,sep='\\n')\n",
        "print('array B:', B, sep='\\n')"
      ]
    },
    {
      "cell_type": "code",
      "execution_count": null,
      "metadata": {
        "id": "8PrOmVimKjBv"
      },
      "outputs": [],
      "source": [
        "# 행렬 간의 내적 구하기\n",
        "A.dot(B)"
      ]
    },
    {
      "cell_type": "code",
      "execution_count": null,
      "metadata": {
        "id": "2MTZZgLuKjBv"
      },
      "outputs": [],
      "source": [
        "np.dot(A,B)"
      ]
    },
    {
      "cell_type": "code",
      "source": [
        "array1 = np.arange(1,5).reshape(4, 1)\n",
        "array3 = array1.dot(array1.T)\n",
        "array4 = array1.T.dot(array1)\n",
        "\n",
        "print('array1: \\n', array1,end='\\n\\n')\n",
        "print('array1 T:', array1.T,sep='\\n')\n",
        "print(\"\\n-----------\\n\")\n",
        "\n",
        "print('(4,1)* (1,4):', array3, sep='\\n')\n",
        "print(\"\\n-----------\\n\")\n",
        "\n",
        "print('(1, 4) * (4, 1):', array4, sep='\\n')"
      ],
      "metadata": {
        "colab": {
          "base_uri": "https://localhost:8080/"
        },
        "outputId": "4476c15a-afb5-4d6a-dcd0-c8814a3e27dd",
        "id": "rIBCnsgGQ2_O"
      },
      "execution_count": null,
      "outputs": [
        {
          "output_type": "stream",
          "name": "stdout",
          "text": [
            "array1: \n",
            " [[1]\n",
            " [2]\n",
            " [3]\n",
            " [4]]\n",
            "\n",
            "array1 T:\n",
            "[[1 2 3 4]]\n",
            "\n",
            "-----------\n",
            "\n",
            "(4,1)* (1,4):\n",
            "[[ 1  2  3  4]\n",
            " [ 2  4  6  8]\n",
            " [ 3  6  9 12]\n",
            " [ 4  8 12 16]]\n",
            "\n",
            "-----------\n",
            "\n",
            "(1, 4) * (4, 1):\n",
            "[[30]]\n"
          ]
        }
      ]
    },
    {
      "cell_type": "code",
      "execution_count": null,
      "metadata": {
        "id": "L4I2tLdbKjBv",
        "outputId": "21ddc577-a368-48b2-b03c-70b7ed17df45",
        "colab": {
          "base_uri": "https://localhost:8080/"
        }
      },
      "outputs": [
        {
          "output_type": "execute_result",
          "data": {
            "text/plain": [
              "array([[0, 2],\n",
              "       [1, 3]])"
            ]
          },
          "metadata": {},
          "execution_count": 76
        }
      ],
      "source": [
        "# 행렬 A의 전치행렬 구하기\n",
        "np.transpose(A)"
      ]
    },
    {
      "cell_type": "code",
      "execution_count": null,
      "metadata": {
        "id": "b0EtAlZhKjBv",
        "outputId": "56ebc452-64c5-4980-c265-eeaaac7e9dd5",
        "colab": {
          "base_uri": "https://localhost:8080/"
        }
      },
      "outputs": [
        {
          "output_type": "execute_result",
          "data": {
            "text/plain": [
              "array([[0, 2],\n",
              "       [1, 3]])"
            ]
          },
          "metadata": {},
          "execution_count": 77
        }
      ],
      "source": [
        "A.transpose()"
      ]
    },
    {
      "cell_type": "code",
      "source": [
        "A.T"
      ],
      "metadata": {
        "colab": {
          "base_uri": "https://localhost:8080/"
        },
        "id": "m3jyOg5MDgRc",
        "outputId": "78a25c6d-9b9a-4475-dd7e-e87e165329aa"
      },
      "execution_count": null,
      "outputs": [
        {
          "output_type": "execute_result",
          "data": {
            "text/plain": [
              "array([[0, 2],\n",
              "       [1, 3]])"
            ]
          },
          "metadata": {},
          "execution_count": 139
        }
      ]
    },
    {
      "cell_type": "code",
      "execution_count": null,
      "metadata": {
        "id": "tFQANHwZKjBv",
        "outputId": "b99b7435-487b-495c-ed37-9d0dd164de5f",
        "colab": {
          "base_uri": "https://localhost:8080/"
        }
      },
      "outputs": [
        {
          "output_type": "execute_result",
          "data": {
            "text/plain": [
              "array([[-1.5,  0.5],\n",
              "       [ 1. ,  0. ]])"
            ]
          },
          "metadata": {},
          "execution_count": 78
        }
      ],
      "source": [
        "# 행렬 A의 역행렬 구하기\n",
        "np.linalg.inv(A)"
      ]
    },
    {
      "cell_type": "code",
      "execution_count": null,
      "metadata": {
        "id": "xnOHESpYKjBv",
        "outputId": "05ee68e1-4138-4650-87e3-f576ff289ed5",
        "colab": {
          "base_uri": "https://localhost:8080/"
        }
      },
      "outputs": [
        {
          "output_type": "execute_result",
          "data": {
            "text/plain": [
              "-2.0"
            ]
          },
          "metadata": {},
          "execution_count": 79
        }
      ],
      "source": [
        "# 행렬 A의 행렬식 구하기\n",
        "np.linalg.det(A)"
      ]
    },
    {
      "cell_type": "markdown",
      "source": [
        "브로드캐스팅"
      ],
      "metadata": {
        "id": "DrPtqT1lO0qN"
      }
    },
    {
      "cell_type": "markdown",
      "metadata": {
        "id": "P0d3iknpO0qN"
      },
      "source": [
        "서로 다른 형태의 배열 연산이 가능합니다 (브로드캐스팅)"
      ]
    },
    {
      "cell_type": "markdown",
      "source": [
        "![image.png](data:image/png;base64,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)"
      ],
      "metadata": {
        "id": "Fd3GaGruO0qN"
      }
    },
    {
      "cell_type": "markdown",
      "source": [
        "이미지 출처 : https://img1.daumcdn.net/thumb/R1280x0/?scode=mtistory2&fname=https%3A%2F%2Fblog.kakaocdn.net%2Fdn%2Fc07DsJ%2FbtqBS6q8SL6%2FIuLi7AKEkcDDUcFK3Y9F50%2Fimg.png"
      ],
      "metadata": {
        "id": "s7ZtJsloKirl"
      }
    },
    {
      "cell_type": "code",
      "metadata": {
        "colab": {
          "base_uri": "https://localhost:8080/"
        },
        "outputId": "7868e4f6-8dcb-4641-af9c-9dfb90b390bc",
        "id": "Z39mY1-6O0qX"
      },
      "source": [
        "import numpy as np\n",
        "\n",
        "array1 = np.arange(4).reshape(2, 2)\n",
        "array2 = np.arange(2)\n",
        "\n",
        "print(array1.shape, array2.shape)\n",
        "\n",
        "\n",
        "print('array1:', array1, sep='\\n', end = '\\n\\n')\n",
        "print('array2:', array2, sep='\\n', end = '\\n\\n')"
      ],
      "execution_count": null,
      "outputs": [
        {
          "output_type": "stream",
          "name": "stdout",
          "text": [
            "(2, 2) (2,)\n",
            "array1:\n",
            "[[0 1]\n",
            " [2 3]]\n",
            "\n",
            "array2:\n",
            "[0 1]\n",
            "\n"
          ]
        }
      ]
    },
    {
      "cell_type": "code",
      "source": [
        "array1 + array2"
      ],
      "metadata": {
        "id": "UJcq4ML-Dusq"
      },
      "execution_count": null,
      "outputs": []
    },
    {
      "cell_type": "code",
      "source": [
        "array1 - array2"
      ],
      "metadata": {
        "id": "3fU0DHwkO0qX"
      },
      "execution_count": null,
      "outputs": []
    },
    {
      "cell_type": "markdown",
      "source": [
        "\n",
        "1. 맴버가 하나인 배열은 어떤 배열에나 브로드캐스팅(Broadcasting)이 가능(단, 맴버가 하나도 없는 빈 배열을 제외)\n",
        "    - ex) 4x4 + 1\n",
        "\n",
        "2. 하나의 배열의 차원이 1인 경우 브로드캐스팅(Broadcasting)이 가능\n",
        "    - ex) 4x4 + 1x4\n",
        "\n",
        "3. 차원의 짝이 맞을 때 브로드캐스팅(Broadcasting)가능\n",
        "    - ex) 3x1 + 1x3"
      ],
      "metadata": {
        "id": "993LbDaiPVT3"
      }
    },
    {
      "cell_type": "code",
      "source": [
        "import numpy as np\n",
        "\n",
        "array1 = np.arange(4).reshape(4,1)\n",
        "array2 = np.arange(3)\n",
        "\n",
        "print(array1.shape, array2.shape)\n",
        "\n",
        "print('array1:', array1, end='\\n', sep = '\\n')\n",
        "print('array2:', array2, end='\\n', sep = '\\n')"
      ],
      "metadata": {
        "colab": {
          "base_uri": "https://localhost:8080/"
        },
        "outputId": "afff77c9-c5b9-45c7-c802-0addb22d6ac0",
        "id": "3-fwbdb8O0qX"
      },
      "execution_count": null,
      "outputs": [
        {
          "output_type": "stream",
          "name": "stdout",
          "text": [
            "(4, 1) (3,)\n",
            "array1:\n",
            "[[0]\n",
            " [1]\n",
            " [2]\n",
            " [3]]\n",
            "array2:\n",
            "[0 1 2]\n"
          ]
        }
      ]
    },
    {
      "cell_type": "code",
      "source": [
        "array1 + array2"
      ],
      "metadata": {
        "id": "aYLAuAsYFrOK"
      },
      "execution_count": null,
      "outputs": []
    },
    {
      "cell_type": "code",
      "metadata": {
        "colab": {
          "base_uri": "https://localhost:8080/"
        },
        "outputId": "ada623d0-091e-453a-cff3-ab770f33f87b",
        "id": "nFSE_5QpO0qX"
      },
      "source": [
        "import numpy as np\n",
        "\n",
        "array1 = np.arange(0, 8).reshape(2, 4)\n",
        "array2 = np.arange(0, 8).reshape(2, 4)\n",
        "array3 = np.concatenate([array1, array2], axis=0)\n",
        "array4 = np.arange(0, 4).reshape(4, 1)\n",
        "\n",
        "print(array3.shape, array4.shape)\n",
        "\n",
        "print('array3:', array3, sep='\\n')\n",
        "print('array4:', array4, sep='\\n', end = '\\n\\n')"
      ],
      "execution_count": null,
      "outputs": [
        {
          "output_type": "stream",
          "name": "stdout",
          "text": [
            "(4, 4) (4, 1)\n",
            "array3:\n",
            "[[0 1 2 3]\n",
            " [4 5 6 7]\n",
            " [0 1 2 3]\n",
            " [4 5 6 7]]\n",
            "array4:\n",
            "[[0]\n",
            " [1]\n",
            " [2]\n",
            " [3]]\n",
            "\n"
          ]
        }
      ]
    },
    {
      "cell_type": "code",
      "source": [
        "array3 * array4"
      ],
      "metadata": {
        "id": "-HhLuobpGPF7"
      },
      "execution_count": null,
      "outputs": []
    },
    {
      "cell_type": "markdown",
      "metadata": {
        "id": "aAIxUAXrO0qX"
      },
      "source": [
        "Numpy는 **마스킹 연산**이 가능합니다."
      ]
    },
    {
      "cell_type": "markdown",
      "source": [
        "Numpy 원소의 값을 조건에 따라 바꿀 때는 다음과 같이 합니다.   \n",
        "반복문을 이용할 때보다 매우 빠르게 동작합니다."
      ],
      "metadata": {
        "id": "A43p-FZIO0qX"
      }
    },
    {
      "cell_type": "code",
      "metadata": {
        "colab": {
          "base_uri": "https://localhost:8080/"
        },
        "outputId": "0c250a18-5169-407f-8f84-d4d724192fa1",
        "id": "mdhQOinbO0qX"
      },
      "source": [
        "# Numpy Masking\n",
        "import numpy as np\n",
        "\n",
        "array1 = np.arange(16).reshape(4, 4)\n",
        "print(array1)\n",
        "print(\"\\n--------------\\n\")\n",
        "array2 = array1 < 10\n",
        "print(array2)\n",
        "print(\"\\n--------------\\n\")\n",
        "\n",
        "\n",
        "# 마스킹 적용 \n",
        "array1[array2] = 100\n",
        "print(array1)"
      ],
      "execution_count": null,
      "outputs": [
        {
          "output_type": "stream",
          "name": "stdout",
          "text": [
            "[[ 0  1  2  3]\n",
            " [ 4  5  6  7]\n",
            " [ 8  9 10 11]\n",
            " [12 13 14 15]]\n",
            "\n",
            "--------------\n",
            "\n",
            "[[ True  True  True  True]\n",
            " [ True  True  True  True]\n",
            " [ True  True False False]\n",
            " [False False False False]]\n",
            "\n",
            "--------------\n",
            "\n",
            "[[100 100 100 100]\n",
            " [100 100 100 100]\n",
            " [100 100  10  11]\n",
            " [ 12  13  14  15]]\n"
          ]
        }
      ]
    },
    {
      "cell_type": "markdown",
      "source": [
        "#### 행렬 연산을 사용하는 이유"
      ],
      "metadata": {
        "id": "DGpLU-zEEoLp"
      }
    },
    {
      "cell_type": "code",
      "source": [
        "import time\n",
        "\n",
        "# 시작 시간\n",
        "s_time = time.time()\n",
        "\n",
        "\n",
        "# 연산 \n",
        "array1 = np.arange(10000).reshape(100, 100)\n",
        "array1[array1 < 1000] = 0\n",
        "\n",
        "\n",
        "# 종료 시간\n",
        "e_time = time.time()\n",
        "print(array1)\n",
        "\n",
        "print(\"time :\", e_time - s_time)"
      ],
      "metadata": {
        "colab": {
          "base_uri": "https://localhost:8080/"
        },
        "outputId": "017befad-dc73-4db6-d563-1358903e4f46",
        "id": "kOrJCKiYO0qX"
      },
      "execution_count": null,
      "outputs": [
        {
          "output_type": "stream",
          "name": "stdout",
          "text": [
            "[[   0    0    0 ...    0    0    0]\n",
            " [   0    0    0 ...    0    0    0]\n",
            " [   0    0    0 ...    0    0    0]\n",
            " ...\n",
            " [9700 9701 9702 ... 9797 9798 9799]\n",
            " [9800 9801 9802 ... 9897 9898 9899]\n",
            " [9900 9901 9902 ... 9997 9998 9999]]\n",
            "time : 0.0013692378997802734\n"
          ]
        }
      ]
    },
    {
      "cell_type": "code",
      "source": [
        "# 이중 for문 \n",
        "\n",
        "import time\n",
        "s_time = time.time()\n",
        "array1 = np.arange(10000).reshape(100, 100)\n",
        "\n",
        "for i in range(len(array1)):\n",
        "    for j in range(len(array1[0])):\n",
        "        if array1[i][j] < 1000:\n",
        "            array1[i][j] = 0\n",
        "e_time = time.time()\n",
        "print(array1)\n",
        "print(\"time :\", e_time - s_time)"
      ],
      "metadata": {
        "colab": {
          "base_uri": "https://localhost:8080/"
        },
        "outputId": "de7bb249-42c2-421e-99b0-c42e4ed67007",
        "id": "eXRJcJ1CO0qY"
      },
      "execution_count": null,
      "outputs": [
        {
          "output_type": "stream",
          "name": "stdout",
          "text": [
            "[[   0    0    0 ...    0    0    0]\n",
            " [   0    0    0 ...    0    0    0]\n",
            " [   0    0    0 ...    0    0    0]\n",
            " ...\n",
            " [9700 9701 9702 ... 9797 9798 9799]\n",
            " [9800 9801 9802 ... 9897 9898 9899]\n",
            " [9900 9901 9902 ... 9997 9998 9999]]\n",
            "time : 0.025606393814086914\n"
          ]
        }
      ]
    },
    {
      "cell_type": "markdown",
      "metadata": {
        "nbpresent": {
          "id": "0266279b-0a9a-4625-bf56-25dcdc3ed960"
        },
        "id": "bKZOBGIHKjBv"
      },
      "source": [
        "### 1.8 배열의 인덱싱과 슬라이싱\n",
        "- 인덱싱(Indexing): 배열의 위치나 조건을 지정해 배열의 원소를 선택하는 것\n",
        "- 슬라이싱(Slicing): 범위를 지정해 배열의 원소를 선택하는 것"
      ]
    },
    {
      "cell_type": "markdown",
      "metadata": {
        "nbpresent": {
          "id": "c2015789-2fd8-46d5-9d58-5291f8e895df"
        },
        "id": "0AUwmC9cKjBv"
      },
      "source": [
        "#### 배열의 인덱싱"
      ]
    },
    {
      "cell_type": "code",
      "execution_count": null,
      "metadata": {
        "nbpresent": {
          "id": "eeea493a-f604-4696-bc2f-6d3eccb0f586"
        },
        "id": "cGSh974lKjBv",
        "outputId": "468168f6-15a0-4070-e7ea-1e10418957c2",
        "colab": {
          "base_uri": "https://localhost:8080/"
        }
      },
      "outputs": [
        {
          "output_type": "execute_result",
          "data": {
            "text/plain": [
              "array([ 0, 10, 20, 30, 40, 50])"
            ]
          },
          "metadata": {},
          "execution_count": 87
        }
      ],
      "source": [
        "# 1차원 배열 인덱싱 <배열명[위치]>\n",
        "# 배열 원소의 위치는 0부터 시작\n",
        "a1 = np.array([0, 10, 20, 30, 40, 50])\n",
        "a1"
      ]
    },
    {
      "cell_type": "code",
      "execution_count": null,
      "metadata": {
        "nbpresent": {
          "id": "2fd50764-d3f4-4999-9efe-e7f75dde9fb8"
        },
        "id": "xCnJgxmjKjBw",
        "outputId": "305c463b-29ad-4634-a405-81b8ef503fa1",
        "colab": {
          "base_uri": "https://localhost:8080/"
        }
      },
      "outputs": [
        {
          "output_type": "execute_result",
          "data": {
            "text/plain": [
              "0"
            ]
          },
          "metadata": {},
          "execution_count": 88
        }
      ],
      "source": [
        "a1[0]"
      ]
    },
    {
      "cell_type": "code",
      "execution_count": null,
      "metadata": {
        "nbpresent": {
          "id": "ec07b417-b92e-42a7-a1c8-fa4832d4c822"
        },
        "id": "mb36MYyKKjBw",
        "outputId": "8c9fb46f-ae1a-42b4-c8ec-b1c4acd12129",
        "collapsed": true,
        "colab": {
          "base_uri": "https://localhost:8080/"
        }
      },
      "outputs": [
        {
          "output_type": "execute_result",
          "data": {
            "text/plain": [
              "40"
            ]
          },
          "metadata": {},
          "execution_count": 89
        }
      ],
      "source": [
        "a1[4]"
      ]
    },
    {
      "cell_type": "code",
      "execution_count": null,
      "metadata": {
        "id": "xBU8ykPOKjBw",
        "outputId": "cc44fb4a-b5b8-49c6-be43-0621e71ce6a8",
        "colab": {
          "base_uri": "https://localhost:8080/"
        }
      },
      "outputs": [
        {
          "output_type": "execute_result",
          "data": {
            "text/plain": [
              "array([ 0, 10, 20, 30, 40, 70])"
            ]
          },
          "metadata": {},
          "execution_count": 90
        }
      ],
      "source": [
        "a1[5] = 70\n",
        "a1"
      ]
    },
    {
      "cell_type": "code",
      "execution_count": null,
      "metadata": {
        "collapsed": true,
        "id": "VvfLZi6hKjBw"
      },
      "outputs": [],
      "source": [
        "# Q. 아래 코드를 실행시키면 어떤 결과가 나올까?\n",
        "a1[6] = 90"
      ]
    },
    {
      "cell_type": "code",
      "source": [
        "a1"
      ],
      "metadata": {
        "id": "mcLctSoeQlSl"
      },
      "execution_count": null,
      "outputs": []
    },
    {
      "cell_type": "markdown",
      "source": [
        "Q. 다음 인덱싱의 결과는? "
      ],
      "metadata": {
        "id": "z2PkzFNsQnj4"
      }
    },
    {
      "cell_type": "code",
      "execution_count": null,
      "metadata": {
        "nbpresent": {
          "id": "002591c3-c483-4a64-b1a3-cbe5c82369fa"
        },
        "id": "CS9b9n2fKjBw",
        "collapsed": true
      },
      "outputs": [],
      "source": [
        "a1[[1,3,4]]"
      ]
    },
    {
      "cell_type": "code",
      "execution_count": null,
      "metadata": {
        "id": "MIbAna7bKjBw",
        "outputId": "d1c45466-74c1-4ec2-e3fa-51e999732d86",
        "colab": {
          "base_uri": "https://localhost:8080/"
        }
      },
      "outputs": [
        {
          "output_type": "execute_result",
          "data": {
            "text/plain": [
              "array([[10, 20, 30],\n",
              "       [40, 50, 60],\n",
              "       [70, 80, 90]])"
            ]
          },
          "metadata": {},
          "execution_count": 94
        }
      ],
      "source": [
        "# 2차원 배열 인덱싱 <배열명[행_위치, 열_위치]>\n",
        "\n",
        "a2 = np.arange(10, 100, 10).reshape(3,3)\n",
        "a2"
      ]
    },
    {
      "cell_type": "code",
      "execution_count": null,
      "metadata": {
        "id": "2EV9Bbm2KjBw",
        "outputId": "3efca665-f844-47cb-9587-fe665a6ca766",
        "colab": {
          "base_uri": "https://localhost:8080/"
        },
        "collapsed": true
      },
      "outputs": [
        {
          "output_type": "execute_result",
          "data": {
            "text/plain": [
              "30"
            ]
          },
          "metadata": {},
          "execution_count": 95
        }
      ],
      "source": [
        "a2[0, 2]"
      ]
    },
    {
      "cell_type": "markdown",
      "source": [
        "문제. a2의 90이라는 숫자를 95로 바꾸고 싶으면 어떻게 해야할까?\n",
        "아래에 코드를 작성해보세요"
      ],
      "metadata": {
        "id": "b3x34MVQQ0XC"
      }
    },
    {
      "cell_type": "code",
      "execution_count": null,
      "metadata": {
        "id": "6p5djxmlKjBw"
      },
      "outputs": [],
      "source": [
        "# a2의 90이라는 숫자를 95로 바꾸고 싶으면 어떻게 해야할까?\n",
        "# 아래에 코드를 작성해보세요\n"
      ]
    },
    {
      "cell_type": "code",
      "execution_count": null,
      "metadata": {
        "id": "Bt4fDhi3KjBw",
        "outputId": "2620eb88-0395-49d7-8b27-e7d1e0a4b084",
        "colab": {
          "base_uri": "https://localhost:8080/"
        }
      },
      "outputs": [
        {
          "output_type": "execute_result",
          "data": {
            "text/plain": [
              "array([40, 50, 60])"
            ]
          },
          "metadata": {},
          "execution_count": 97
        }
      ],
      "source": [
        "# 열_위치없이 배열명[행_위치]만 입력하면 지정한 행 전체가 선택됨\n",
        "a2[1]"
      ]
    },
    {
      "cell_type": "code",
      "execution_count": null,
      "metadata": {
        "id": "fkbRp7veKjBw",
        "outputId": "da6fcc6a-336b-444a-ddcb-bac85e4344ba",
        "colab": {
          "base_uri": "https://localhost:8080/"
        }
      },
      "outputs": [
        {
          "output_type": "execute_result",
          "data": {
            "text/plain": [
              "array([[10, 20, 30],\n",
              "       [45, 55, 65],\n",
              "       [70, 80, 90]])"
            ]
          },
          "metadata": {},
          "execution_count": 98
        }
      ],
      "source": [
        "a2[1] = np.array([45, 55, 65])\n",
        "a2"
      ]
    },
    {
      "cell_type": "code",
      "execution_count": null,
      "metadata": {
        "id": "g9MkBHq3KjBw",
        "outputId": "dd5796f6-3b24-4fc2-fb25-33c63b230dc7",
        "colab": {
          "base_uri": "https://localhost:8080/"
        }
      },
      "outputs": [
        {
          "output_type": "execute_result",
          "data": {
            "text/plain": [
              "array([[10, 20, 30],\n",
              "       [47, 57, 67],\n",
              "       [70, 80, 90]])"
            ]
          },
          "metadata": {},
          "execution_count": 99
        }
      ],
      "source": [
        "a2[1] = [47, 57, 67]\n",
        "a2"
      ]
    },
    {
      "cell_type": "code",
      "execution_count": null,
      "metadata": {
        "id": "w6GqaCxqKjBw",
        "colab": {
          "base_uri": "https://localhost:8080/"
        },
        "outputId": "31693131-21f0-46f7-dd06-65b81469c52a"
      },
      "outputs": [
        {
          "output_type": "execute_result",
          "data": {
            "text/plain": [
              "array([10, 80])"
            ]
          },
          "metadata": {},
          "execution_count": 160
        }
      ],
      "source": [
        "# Q. 출력값이 array([10, 80])이 나오도록 a2를 가지고 인덱싱해보기\n",
        "\n"
      ]
    },
    {
      "cell_type": "code",
      "execution_count": null,
      "metadata": {
        "id": "kFuqhNz-KjBw",
        "outputId": "3d22502b-01d9-4bac-c77a-f27ecd7afcfd",
        "colab": {
          "base_uri": "https://localhost:8080/"
        }
      },
      "outputs": [
        {
          "output_type": "execute_result",
          "data": {
            "text/plain": [
              "array([4, 5, 6])"
            ]
          },
          "metadata": {},
          "execution_count": 101
        }
      ],
      "source": [
        "# 조건을 지정해 조건에 맞는 배열의 원소만 선택하기\n",
        "a = np.array([1, 2, 3, 4, 5, 6])\n",
        "a[a > 3]"
      ]
    },
    {
      "cell_type": "code",
      "execution_count": null,
      "metadata": {
        "id": "nlBKYVD1KjBx",
        "outputId": "a8f2bb3b-6461-4de5-8da7-77dcfaeb19a1",
        "colab": {
          "base_uri": "https://localhost:8080/"
        }
      },
      "outputs": [
        {
          "output_type": "execute_result",
          "data": {
            "text/plain": [
              "array([ 1,  2,  3,  4,  5,  6,  7,  8,  9, 10, 11, 12, 13, 14, 15, 16, 17,\n",
              "       18, 19, 20])"
            ]
          },
          "metadata": {},
          "execution_count": 163
        }
      ],
      "source": [
        "# Q. 숫자 1부터 20을 원소로 갖는 배열 안에서 조건을 지정해서 2의 배수인 원소만 선택하기\n",
        "b = np.arange(1, 21)\n",
        "\n",
        "# 2의 배수만 인덱싱 \n",
        "b"
      ]
    },
    {
      "cell_type": "markdown",
      "metadata": {
        "nbpresent": {
          "id": "fbfdb73b-42aa-4d6c-8607-de4d7e930345"
        },
        "id": "WjMeoSGgKjBx"
      },
      "source": [
        "#### 배열의 슬라이싱"
      ]
    },
    {
      "cell_type": "code",
      "execution_count": null,
      "metadata": {
        "nbpresent": {
          "id": "73248ff9-96ab-4911-a605-a2656df5439d"
        },
        "id": "dnZNoCLMKjBx",
        "outputId": "d6104f0a-946f-4c69-b503-3c638f4a69bc",
        "colab": {
          "base_uri": "https://localhost:8080/"
        }
      },
      "outputs": [
        {
          "output_type": "execute_result",
          "data": {
            "text/plain": [
              "array([10, 20, 30])"
            ]
          },
          "metadata": {},
          "execution_count": 103
        }
      ],
      "source": [
        "b1 = np.array([0, 10, 20, 30, 40, 50])\n",
        "b1[1:4]"
      ]
    },
    {
      "cell_type": "code",
      "execution_count": null,
      "metadata": {
        "id": "g1FPAAkqKjBx",
        "outputId": "9abba7b4-e7f2-432b-928e-bc717d025c28",
        "colab": {
          "base_uri": "https://localhost:8080/"
        }
      },
      "outputs": [
        {
          "output_type": "execute_result",
          "data": {
            "text/plain": [
              "array([ 0, 10, 20])"
            ]
          },
          "metadata": {},
          "execution_count": 104
        }
      ],
      "source": [
        "b1[:3]"
      ]
    },
    {
      "cell_type": "code",
      "execution_count": null,
      "metadata": {
        "id": "iApDlxZ8KjBx",
        "outputId": "f55a5556-d88d-4cd7-b82e-8ed7da48a5df",
        "colab": {
          "base_uri": "https://localhost:8080/"
        }
      },
      "outputs": [
        {
          "output_type": "execute_result",
          "data": {
            "text/plain": [
              "array([20, 30, 40, 50])"
            ]
          },
          "metadata": {},
          "execution_count": 105
        }
      ],
      "source": [
        "b1[2:]"
      ]
    },
    {
      "cell_type": "code",
      "execution_count": null,
      "metadata": {
        "id": "XYB29etUKjBx",
        "outputId": "ca1c0098-184d-4764-f392-ef27bcfce995",
        "colab": {
          "base_uri": "https://localhost:8080/"
        }
      },
      "outputs": [
        {
          "output_type": "execute_result",
          "data": {
            "text/plain": [
              "array([ 0, 10, 25, 35, 45, 50])"
            ]
          },
          "metadata": {},
          "execution_count": 106
        }
      ],
      "source": [
        "b1[2:5] = np.array([25, 35, 45])\n",
        "b1"
      ]
    },
    {
      "cell_type": "code",
      "execution_count": null,
      "metadata": {
        "nbpresent": {
          "id": "6388bb1d-a6da-4b8d-9343-c9e36e961fcb"
        },
        "id": "EiCv8qFSKjBx",
        "outputId": "53edc4d2-27d0-4fd3-83cb-16b56f4b885c",
        "colab": {
          "base_uri": "https://localhost:8080/"
        }
      },
      "outputs": [
        {
          "output_type": "execute_result",
          "data": {
            "text/plain": [
              "array([ 0, 10, 25, 60, 60, 60])"
            ]
          },
          "metadata": {},
          "execution_count": 107
        }
      ],
      "source": [
        "b1[3:6] = 60\n",
        "b1"
      ]
    },
    {
      "cell_type": "code",
      "execution_count": null,
      "metadata": {
        "id": "p9Dmwac9KjBx",
        "outputId": "87e33ac7-59ed-4a27-816c-dd8aa8d93845",
        "colab": {
          "base_uri": "https://localhost:8080/"
        }
      },
      "outputs": [
        {
          "output_type": "execute_result",
          "data": {
            "text/plain": [
              "array([[10, 20, 30],\n",
              "       [40, 50, 60],\n",
              "       [70, 80, 90]])"
            ]
          },
          "metadata": {},
          "execution_count": 108
        }
      ],
      "source": [
        "b2 = np.arange(10, 100, 10).reshape(3,3)\n",
        "b2"
      ]
    },
    {
      "cell_type": "code",
      "execution_count": null,
      "metadata": {
        "nbpresent": {
          "id": "de8005c3-e4b5-4a92-a1ca-2b9871cd8177"
        },
        "id": "bf4WS062KjBx",
        "outputId": "a6d01e6c-ba36-4095-a884-eff8bbb15c89",
        "colab": {
          "base_uri": "https://localhost:8080/"
        }
      },
      "outputs": [
        {
          "output_type": "execute_result",
          "data": {
            "text/plain": [
              "array([[50, 60],\n",
              "       [80, 90]])"
            ]
          },
          "metadata": {},
          "execution_count": 109
        }
      ],
      "source": [
        "b2[1:3, 1:3]"
      ]
    },
    {
      "cell_type": "code",
      "execution_count": null,
      "metadata": {
        "id": "6gv38QwJKjBx",
        "outputId": "72a13a63-9cb9-442a-98d8-2fedc16b36bb",
        "colab": {
          "base_uri": "https://localhost:8080/",
          "height": 35
        }
      },
      "outputs": [
        {
          "output_type": "execute_result",
          "data": {
            "text/plain": [
              "'\\narray([[20, 30],\\n       [50, 60],\\n       [80, 90]])\\n'"
            ],
            "application/vnd.google.colaboratory.intrinsic+json": {
              "type": "string"
            }
          },
          "metadata": {},
          "execution_count": 110
        }
      ],
      "source": [
        "# Q. 아래 결과가 나오도록 b2를 가지고 인덱싱해보기\n",
        "'''\n",
        "array([[20, 30],\n",
        "       [50, 60],\n",
        "       [80, 90]])\n",
        "'''\n"
      ]
    },
    {
      "cell_type": "code",
      "execution_count": null,
      "metadata": {
        "collapsed": true,
        "id": "r4BUussyKjBx"
      },
      "outputs": [],
      "source": [
        "# Q. 이 코드는 어떤 결과를 출력할지 추측해보기\n",
        "b2[1][0:2]"
      ]
    },
    {
      "cell_type": "code",
      "execution_count": null,
      "metadata": {
        "collapsed": true,
        "nbpresent": {
          "id": "daad9c34-20d7-4214-906a-b9853876a577"
        },
        "id": "QsN5fZqbKjBy"
      },
      "outputs": [],
      "source": [
        "# Q. 아래 코드는 어떤 결과를 출력할지 추측해보기\n",
        "b2[0:2, 1:3] = np.array([[25, 35], [55, 65]])\n",
        "b2"
      ]
    },
    {
      "cell_type": "code",
      "execution_count": null,
      "metadata": {
        "id": "apXTzMEwKjBy",
        "outputId": "1a440e4b-9e22-4fc4-f50b-778328e9eb02",
        "colab": {
          "base_uri": "https://localhost:8080/"
        }
      },
      "outputs": [
        {
          "output_type": "execute_result",
          "data": {
            "text/plain": [
              "array([1, 2, 4])"
            ]
          },
          "metadata": {},
          "execution_count": 113
        }
      ],
      "source": [
        "ex = np.array([1, 2, 0, 0, 4, 0])\n",
        "ex[ex != 0]"
      ]
    },
    {
      "cell_type": "code",
      "source": [],
      "metadata": {
        "id": "4t164_02OeLh"
      },
      "execution_count": null,
      "outputs": []
    },
    {
      "cell_type": "markdown",
      "metadata": {
        "id": "k72C69clKjBy"
      },
      "source": [
        "### 1.9 이 외에도 알아두면 좋은 넘파이 함수"
      ]
    },
    {
      "cell_type": "markdown",
      "metadata": {
        "id": "ksUsz6YSKjBy"
      },
      "source": [
        "#### 조건에 맞는 인덱스 찾기"
      ]
    },
    {
      "cell_type": "code",
      "execution_count": null,
      "metadata": {
        "id": "QaokaKX0KjBy",
        "outputId": "25197f97-8288-4519-d7e5-fbf385bd4df7",
        "colab": {
          "base_uri": "https://localhost:8080/"
        }
      },
      "outputs": [
        {
          "output_type": "execute_result",
          "data": {
            "text/plain": [
              "array([10, 11, 12, 13, 14, 15, 16, 17, 18, 19])"
            ]
          },
          "metadata": {},
          "execution_count": 114
        }
      ],
      "source": [
        "# np.where()\n",
        "a = np.arange(10, 20)\n",
        "a"
      ]
    },
    {
      "cell_type": "code",
      "execution_count": null,
      "metadata": {
        "id": "y4EuLiH4KjBy",
        "outputId": "9ab1e928-47ee-4fc2-955d-f5c4023193f2",
        "colab": {
          "base_uri": "https://localhost:8080/"
        }
      },
      "outputs": [
        {
          "output_type": "execute_result",
          "data": {
            "text/plain": [
              "(array([6, 7, 8, 9]),)"
            ]
          },
          "metadata": {},
          "execution_count": 115
        }
      ],
      "source": [
        "np.where(a > 15)"
      ]
    },
    {
      "cell_type": "code",
      "source": [
        "np.where(a>15, '15초과', '15 이하')"
      ],
      "metadata": {
        "colab": {
          "base_uri": "https://localhost:8080/"
        },
        "collapsed": true,
        "id": "tQMQ1z5VI0jv",
        "outputId": "13cec396-cc42-4f8c-caa9-2e7b3d194f55"
      },
      "execution_count": null,
      "outputs": [
        {
          "output_type": "execute_result",
          "data": {
            "text/plain": [
              "array(['15 이하', '15 이하', '15 이하', '15 이하', '15 이하', '15 이하', '15초과',\n",
              "       '15초과', '15초과', '15초과'], dtype='<U5')"
            ]
          },
          "metadata": {},
          "execution_count": 116
        }
      ]
    },
    {
      "cell_type": "code",
      "execution_count": null,
      "metadata": {
        "id": "T_6bo62AKjBy",
        "outputId": "1b498d25-893a-4541-a70a-4916904d235b",
        "colab": {
          "base_uri": "https://localhost:8080/"
        }
      },
      "outputs": [
        {
          "output_type": "execute_result",
          "data": {
            "text/plain": [
              "9"
            ]
          },
          "metadata": {},
          "execution_count": 117
        }
      ],
      "source": [
        "# np.argmax(), np.argmin()\n",
        "np.argmax(a)"
      ]
    },
    {
      "cell_type": "code",
      "execution_count": null,
      "metadata": {
        "scrolled": true,
        "id": "XANHh7NIKjBy",
        "outputId": "1ee7f210-b701-4c23-b334-d9c226e9c7fe",
        "colab": {
          "base_uri": "https://localhost:8080/"
        }
      },
      "outputs": [
        {
          "output_type": "execute_result",
          "data": {
            "text/plain": [
              "0"
            ]
          },
          "metadata": {},
          "execution_count": 118
        }
      ],
      "source": [
        "np.argmin(a)"
      ]
    },
    {
      "cell_type": "code",
      "execution_count": null,
      "metadata": {
        "id": "_YQxwT2nKjBy",
        "outputId": "33515c68-d98f-4b3a-d21c-9ac5b54afcbf",
        "colab": {
          "base_uri": "https://localhost:8080/"
        }
      },
      "outputs": [
        {
          "output_type": "execute_result",
          "data": {
            "text/plain": [
              "array([2, 1, 3, 4])"
            ]
          },
          "metadata": {},
          "execution_count": 119
        }
      ],
      "source": [
        "# np.argsort(): 작은 값부터 순서대로 인덱스 반환\n",
        "b = np.arange(1, 5)\n",
        "np.random.shuffle(b)\n",
        "b"
      ]
    },
    {
      "cell_type": "code",
      "execution_count": null,
      "metadata": {
        "id": "9Rubb96qKjBy",
        "outputId": "9b2bbf58-9278-4624-d35e-ecd664b37c48",
        "colab": {
          "base_uri": "https://localhost:8080/"
        }
      },
      "outputs": [
        {
          "output_type": "execute_result",
          "data": {
            "text/plain": [
              "array([1, 0, 2, 3])"
            ]
          },
          "metadata": {},
          "execution_count": 120
        }
      ],
      "source": [
        "np.argsort(b)"
      ]
    },
    {
      "cell_type": "code",
      "execution_count": null,
      "metadata": {
        "id": "jsIs7JuuKjBy"
      },
      "outputs": [],
      "source": [
        "# Q. 반대로 내림차순으로 인덱스를 반환하고 싶으면??\n"
      ]
    },
    {
      "cell_type": "markdown",
      "metadata": {
        "id": "fAuMJtV6KjBz"
      },
      "source": [
        "##### 넘파이 실습 문제 - 아래 문제를 직접 풀어보세요!\n",
        "1. Import the numpy package under the name np\n",
        "2. Create a 3X3 matrix with values ranging from 0 to 8\n",
        "3. Find indices of non-zero elements from [1, 2, 0, 0, 4, 0]\n",
        "4. Create a 10X10 array with random values and find the minimum and maximum values\n",
        "5. Find an index of minimum element from [34, 25, 23, 18, 30, 40, 37]"
      ]
    },
    {
      "cell_type": "code",
      "execution_count": null,
      "metadata": {
        "id": "JEYbSnnlKjBz"
      },
      "outputs": [],
      "source": []
    }
  ]
}